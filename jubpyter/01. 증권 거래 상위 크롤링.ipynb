{
 "cells": [
  {
   "cell_type": "code",
   "execution_count": null,
   "metadata": {},
   "outputs": [],
   "source": [
    "#-*- coding: utf-8 -*-\n",
    "# 라이브러리 import\n",
    "try:\n",
    "    import requests\n",
    "except:\n",
    "    !pip install requests\n",
    "    import requests\n",
    "\n",
    "try:\n",
    "    from bs4 import BeautifulSoup\n",
    "except:\n",
    "    !pip install beautifulsoup4\n",
    "    from bs4 import BeautifulSoup\n",
    "\n",
    "import time"
   ]
  },
  {
   "cell_type": "code",
   "execution_count": null,
   "metadata": {},
   "outputs": [],
   "source": [
    "# requests and BeautifulSoup 받아오는 함수\n",
    "def getRequestSoup (url):\n",
    "    headers = {\n",
    "        'Content-Type': 'application/json; charset=utf-8',\n",
    "        'user-agen': 'Mozilla/5.0 (Macintosh; Intel Mac OS X 10_14_5) AppleWebKit/537.36 (KHTML, like Gecko) Chrome/74.0.3729.169 Safari/537.36'\n",
    "    }\n",
    "    response = requests.get(url, headers=headers)\n",
    "    soup = BeautifulSoup(response.text, 'html.parser')\n",
    "    return soup\n"
   ]
  },
  {
   "cell_type": "code",
   "execution_count": null,
   "metadata": {},
   "outputs": [],
   "source": [
    "# 추출 시작\n",
    "def start() :\n",
    "    # BeautifulSoup 받아오기\n",
    "    soup = getRequestSoup(\"https://finance.naver.com/sise/sise_quant.nhn\")\n",
    "    # 데이터가 들어있는 테이블 Tr 추출\n",
    "    data_trs = soup.select(\"div.box_type_l table.type_2 > tr\")\n",
    "    if len(data_trs) > 1 :\n",
    "        # Tr 시작 2 부터\n",
    "        for data_tr in data_trs[2:] :\n",
    "            data_tds = data_tr.select('td')\n",
    "            # 데이터가 있는 부분만..\n",
    "            if len(data_tds) > 5 :\n",
    "                no = data_tds[0].text.strip()\n",
    "                herfTag = data_tds[1].select('a')[0]\n",
    "                href = herfTag.attrs['href']\n",
    "                code = href[href.find('code=') + 5:]\n",
    "                name = herfTag.text.strip()\n",
    "                price = data_tds[2].text.strip().replace(\",\", \"\")\n",
    "                parcent = data_tds[4].select('span')[0].text.strip().replace(\"%\", \"\")\n",
    "                volume = data_tds[5].text.strip().replace(\",\", \"\")\n",
    "                amount = data_tds[6].text.strip().replace(\",\", \"\")\n",
    "                cap = data_tds[9].text.strip().replace(\",\", \"\")\n",
    "                per = data_tds[10].text.strip().replace(\",\", \"\")\n",
    "                poe = data_tds[11].text.strip().replace(\",\", \"\")\n",
    "                data = {\"no\": no, \"code\": code, \"name\": name, \"price\": price, \"parcent\": parcent, \"volume\": volume, \"amount\": amount, \"cap\": cap, \"per\": per, \"poe\": poe}\n",
    "\n",
    "                print (data)"
   ]
  },
  {
   "cell_type": "code",
   "execution_count": null,
   "metadata": {},
   "outputs": [],
   "source": [
    "start()"
   ]
  },
  {
   "cell_type": "code",
   "execution_count": null,
   "metadata": {},
   "outputs": [],
   "source": []
  }
 ],
 "metadata": {
  "kernelspec": {
   "display_name": "Python 3",
   "language": "python",
   "name": "python3"
  },
  "language_info": {
   "codemirror_mode": {
    "name": "ipython",
    "version": 3
   },
   "file_extension": ".py",
   "mimetype": "text/x-python",
   "name": "python",
   "nbconvert_exporter": "python",
   "pygments_lexer": "ipython3",
   "version": "3.6.5"
  }
 },
 "nbformat": 4,
 "nbformat_minor": 4
}
