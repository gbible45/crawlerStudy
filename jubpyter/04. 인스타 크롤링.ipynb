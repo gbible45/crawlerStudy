{
 "cells": [
  {
   "cell_type": "code",
   "execution_count": 25,
   "metadata": {},
   "outputs": [],
   "source": [
    "#-*- coding: utf-8 -*-\n",
    "# 라이브러리 import\n",
    "\n",
    "try:\n",
    "    from selenium import webdriver\n",
    "except:\n",
    "    !pip install selenium\n",
    "    from selenium import webdriver\n",
    "\n",
    "try:\n",
    "    from webdriver_manager.chrome import ChromeDriverManager\n",
    "except:\n",
    "    !pip install webdriver_manager\n",
    "    from webdriver_manager.chrome import ChromeDriverManager\n",
    "\n",
    "from selenium.webdriver.common.keys import Keys\n",
    "\n",
    "try:\n",
    "    from bs4 import BeautifulSoup\n",
    "except:\n",
    "    !pip install beautifulsoup4\n",
    "    from bs4 import BeautifulSoup\n",
    "\n",
    "import datetime\n",
    "from dateutil.relativedelta import relativedelta\n",
    "try:\n",
    "    from urllib import parse\n",
    "except:\n",
    "    !pip install urllib3\n",
    "    from urllib import parse\n",
    "\n",
    "import time\n",
    "\n",
    "try:\n",
    "    import csv\n",
    "except:\n",
    "    !pip install csv\n",
    "    import csv\n",
    "\n",
    "try:\n",
    "    import getpass\n",
    "except:\n",
    "    !pip install getpass4\n",
    "    import getpass\n",
    "\n",
    "import re"
   ]
  },
  {
   "cell_type": "code",
   "execution_count": 26,
   "metadata": {},
   "outputs": [],
   "source": [
    "# 브라우저 옵션\n",
    "options = webdriver.ChromeOptions()\n",
    "# options.add_argument('headless')\n",
    "options.add_argument('start-maximized')\n",
    "options.add_argument(\n",
    "            \"user-agent=Mozilla/5.0 (Macintosh; Intel Mac OS X 10_14_5) AppleWebKit/537.36 (KHTML, like Gecko) Chrome/74.0.3729.169 Safari/537.36\"\n",
    "        )\n",
    "options.add_argument(\"lang=ko_KR\")"
   ]
  },
  {
   "cell_type": "code",
   "execution_count": 27,
   "metadata": {},
   "outputs": [],
   "source": [
    "# 비밀번호 마스킹 처리 함수\n",
    "def printPass(password) :\n",
    "    masking_password = \"\"\n",
    "    for s in password :\n",
    "        masking_password += \"·\"\n",
    "    return masking_password"
   ]
  },
  {
   "cell_type": "code",
   "execution_count": 28,
   "metadata": {},
   "outputs": [],
   "source": [
    "# 로그인 처리 함수 loginType F = 페이스북 계정 로그인, I = 인스타 계정 로그인\n",
    "def instaLogin(chrome, loginType=\"F\", email = None, password = None) :\n",
    "    chrome.get(\"https://www.instagram.com/accounts/login/\")\n",
    "    time.sleep(3)\n",
    "    insta_formObj = chrome.find_element_by_css_selector(\"form[id=loginForm]\")\n",
    "    emailObj = None\n",
    "    passObj = None\n",
    "    loginBtnObj = None\n",
    "    if loginType == \"I\":\n",
    "        print(\"loginType = I\")\n",
    "        emailObj = insta_formObj.find_element_by_css_selector(\"input[name=username]\")\n",
    "        passObj = insta_formObj.find_element_by_css_selector(\"input[name=password]\")\n",
    "        loginBtnObj = insta_formObj.find_element_by_css_selector(\"button[type=submit]\")\n",
    "    else :\n",
    "        print(\"loginType = F\")\n",
    "        loginMoveBtnObj = insta_formObj.find_element_by_css_selector(\"button.sqdOP.yWX7d.y3zKF[type=button]\")\n",
    "        loginMoveBtnObj.click()\n",
    "        time.sleep(3)\n",
    "        facebook_formObj = chrome.find_element_by_css_selector(\"form[id=login_form]\")\n",
    "        emailObj = facebook_formObj.find_element_by_css_selector(\"input[id=email]\")\n",
    "        passObj = facebook_formObj.find_element_by_css_selector(\"input[id=pass]\")\n",
    "        loginBtnObj = facebook_formObj.find_element_by_css_selector(\"button[id=loginbutton]\")\n",
    "\n",
    "    if email is None :\n",
    "        email = input(\"이메일 또는 아이디 : \")\n",
    "    else :\n",
    "        print(\"이메일 또는 아이디 : \" + email)\n",
    "\n",
    "    if password is None :\n",
    "        password = getpass.getpass(\"비밀번호 : \")\n",
    "    else :\n",
    "        print(\"비밀번호 : \" + printPass(password))\n",
    "\n",
    "    emailObj.clear()\n",
    "    emailObj.send_keys(email)\n",
    "    passObj.clear()\n",
    "    passObj.send_keys(password)\n",
    "    time.sleep(1)\n",
    "    loginBtnObj.click()\n",
    "    time.sleep(5)\n"
   ]
  },
  {
   "cell_type": "code",
   "execution_count": 29,
   "metadata": {},
   "outputs": [],
   "source": [
    "# 페이스북 로그인 처리 체크 후 재처리를 위한 함수\n",
    "def loginFacebookCheck(chrome) :\n",
    "    if chrome.current_url == \"https://www.instagram.com/accounts/login/\":\n",
    "        insta_formObj = chrome.find_element_by_css_selector(\"form[id=loginForm]\")\n",
    "        loginMoveBtnObj = insta_formObj.find_element_by_css_selector(\"button.sqdOP.yWX7d.y3zKF[type=button]\")\n",
    "        loginMoveBtnObj.click()\n",
    "        time.sleep(5)\n",
    "        return True\n",
    "    else :\n",
    "        return False\n"
   ]
  },
  {
   "cell_type": "code",
   "execution_count": 30,
   "metadata": {},
   "outputs": [],
   "source": [
    "# 첫번째 사진 선택 함수\n",
    "def selectFirst(chrome):\n",
    "    try:\n",
    "        first = chrome.find_element_by_css_selector(\"div._9AhH0\")\n",
    "        first.click()\n",
    "        time.sleep(2)\n",
    "        return True\n",
    "    except Exception as e:\n",
    "        print(e)\n",
    "        return False\n"
   ]
  },
  {
   "cell_type": "code",
   "execution_count": 31,
   "metadata": {},
   "outputs": [],
   "source": [
    "# 다음 사진으로 이동 함수\n",
    "def moveNext(chrome):\n",
    "    try:\n",
    "        right = chrome.find_element_by_css_selector ('a.coreSpriteRightPaginationArrow')\n",
    "        right.click()\n",
    "        time.sleep(3)\n",
    "        return True\n",
    "    except Exception as e:\n",
    "        print(e)\n",
    "        return False\n"
   ]
  },
  {
   "cell_type": "code",
   "execution_count": 32,
   "metadata": {},
   "outputs": [],
   "source": [
    "# 내용 추출 함수\n",
    "def getContent(chrome):\n",
    "    \n",
    "    html = chrome.page_source\n",
    "    soup = BeautifulSoup(html, 'lxml')\n",
    "    # 본문 내용 \n",
    "    try:\n",
    "        content = soup.select('div.C4VMK > span')[0].text\n",
    "    except:\n",
    "        content = ' '\n",
    "    # 해시태그 \n",
    "    tags = re.findall(r'#[^\\s#,\\\\]+', content)  \n",
    "    # 작성일자 \n",
    "    date = soup.select('time._1o9PC.Nzb55')[0]['datetime'][:10]\n",
    "    # 좋아요 \n",
    "    try:\n",
    "        like = soup.select('div.Nm9Fw > a > span')[0].text   \n",
    "    except:\n",
    "        like = 0\n",
    "    # 위치\n",
    "    try: \n",
    "        place = soup.select('div.M30cS')[0].text\n",
    "    except:\n",
    "        place = ''\n",
    "   \n",
    "    data = [content, date, like, place, tags]\n",
    "    return data"
   ]
  },
  {
   "cell_type": "code",
   "execution_count": 33,
   "metadata": {},
   "outputs": [],
   "source": [
    "# 크롤링 시작 함수\n",
    "def startSearch(loginType = \"F\", email = None, password = None) :\n",
    "    search_txt = input(\"search : \")\n",
    "    encode_type = \"utf-8\"\n",
    "    search_encode = parse.quote(search_txt)\n",
    "    chrome = webdriver.Chrome(ChromeDriverManager().install(), options=options)\n",
    "    try:\n",
    "        instaLogin(chrome, loginType, email, password)\n",
    "        time.sleep(2)\n",
    "        \n",
    "        #print(chrome.current_url)\n",
    "        searchUrl = \"https://www.instagram.com/explore/tags/\" + search_encode + \"/\"\n",
    "        \n",
    "        chrome.get(searchUrl)\n",
    "        time.sleep(3)\n",
    "        \n",
    "        # Facebook 로드인 연동이 안되는 경우가 있어 Facebook 재 연동처리\n",
    "        if loginType == \"F\" :\n",
    "            if loginFacebookCheck(chrome) :\n",
    "                chrome.get(searchUrl)\n",
    "                time.sleep(3)\n",
    "                \n",
    "        \n",
    "        now_date = datetime.datetime.now()\n",
    "\n",
    "        cvsFileName = \"inta_search_\" + search_txt + \"_\" + now_date.strftime(\"%Y-%m-%d\") + \".csv\"\n",
    "        with open(cvsFileName, \"w\", newline=\"\", encoding=encode_type) as f:\n",
    "            colnames = ['content', 'date', 'like', 'place', 'tags']\n",
    "            w = csv.writer(f)\n",
    "            w.writerow(colnames)\n",
    "        count = 0\n",
    "        if selectFirst(chrome) :\n",
    "            while True :\n",
    "                count = count+1\n",
    "                with open(cvsFileName, \"a\", newline=\"\", encoding=encode_type) as f:\n",
    "                    w = csv.writer(f)\n",
    "                    data = getContent(chrome)\n",
    "                    print(\"[\" + str(count) + \"] : \", data)\n",
    "                    w.writerow(data)\n",
    "                if moveNext(chrome) :\n",
    "                    time.sleep(2)\n",
    "                else :\n",
    "                    break;\n",
    "\n",
    "    except Exception as e:\n",
    "        print(e)\n",
    "    finally:\n",
    "        if chrome:\n",
    "            chrome.close()"
   ]
  },
  {
   "cell_type": "code",
   "execution_count": 34,
   "metadata": {},
   "outputs": [
    {
     "name": "stdin",
     "output_type": "stream",
     "text": [
      "search :  복권당첨\n"
     ]
    },
    {
     "name": "stderr",
     "output_type": "stream",
     "text": [
      "[WDM] - Current google-chrome version is 90.0.4430\n",
      "[WDM] - Get LATEST driver version for 90.0.4430\n",
      "[WDM] - Driver [C:\\Users\\gbible\\.wdm\\drivers\\chromedriver\\win32\\90.0.4430.24\\chromedriver.exe] found in cache\n"
     ]
    },
    {
     "name": "stdout",
     "output_type": "stream",
     "text": [
      " \n",
      "loginType = F\n",
      "이메일 또는 아이디 : gbible@naver.com\n"
     ]
    },
    {
     "name": "stdin",
     "output_type": "stream",
     "text": [
      "비밀번호 :  ·········\n"
     ]
    },
    {
     "name": "stdout",
     "output_type": "stream",
     "text": [
      "[1] :  ['#4등#로또#로또당첨5등 말고 처음 되봄하나만 더 맞지..#곱창 사 먹어야징~', '2018-09-17', '178', '', ['#4등', '#로또', '#로또당첨5등', '#곱창']]\n",
      "[2] :  ['-우연히 천원짜리 로또 딱 한장샀는데3등이 당첨됐,,,,,,,,, #대박 🎉🎊우리도 이런운이있네? 싱기방기😜#로또 #로또당첨#천원의행복 #yolo', '2017-06-13', '123', '', ['#대박', '#로또', '#로또당첨', '#천원의행복', '#yolo']]\n",
      "[3] :  ['운수 좋은 날 💸💸✨', '2019-09-14', '124', 'Hwacheon', []]\n",
      "[4] :  ['집사님덜 제가 오늘 끄니 수염을 주웠거든요? 꺄 십만원 당첨!!! 끄니가 사료값 벌어왔어요\\U0001f929\\U0001f929', '2019-03-09', '133', '', []]\n",
      "[5] :  ['저번주 꿈에뭔 물청소를 하길래꿈풀이 해보니 상당히 좋아서복권 엄청샀는데 역시 나는횡재운은 없는듯?ㅋㅋ열심히 일하자🙆\\u200d♂️.#복권 #로또 #복권당첨 #꿈 #꿈해몽 #연금복권 #꽝 #전주맛집 #맛집추천 #존맛탱 #셀카그램 #셀카스타그램 #셀스타그램 #셀피 #먹방스타그램 #먹스타그램 #선팔환영 #선팔맞팔 #선팔하면맞팔 #럽스타그램 #월요일 #맛스타 #맛스타그램 #전주맛집추천', '2019-12-23', '106', 'Jeonju', ['#복권', '#로또', '#복권당첨', '#꿈', '#꿈해몽', '#연금복권', '#꽝', '#전주맛집', '#맛집추천', '#존맛탱', '#셀카그램', '#셀카스타그램', '#셀스타그램', '#셀피', '#먹방스타그램', '#먹스타그램', '#선팔환영', '#선팔맞팔', '#선팔하면맞팔', '#럽스타그램', '#월요일', '#맛스타', '#맛스타그램', '#전주맛집추천']]\n"
     ]
    },
    {
     "ename": "WebDriverException",
     "evalue": "Message: chrome not reachable\n  (Session info: chrome=90.0.4430.93)\n",
     "output_type": "error",
     "traceback": [
      "\u001b[1;31m---------------------------------------------------------------------------\u001b[0m",
      "\u001b[1;31mWebDriverException\u001b[0m                        Traceback (most recent call last)",
      "\u001b[1;32m<ipython-input-33-16bde44f9ff2>\u001b[0m in \u001b[0;36mstartSearch\u001b[1;34m(loginType, email, password)\u001b[0m\n\u001b[0;32m     36\u001b[0m                     \u001b[0mw\u001b[0m \u001b[1;33m=\u001b[0m \u001b[0mcsv\u001b[0m\u001b[1;33m.\u001b[0m\u001b[0mwriter\u001b[0m\u001b[1;33m(\u001b[0m\u001b[0mf\u001b[0m\u001b[1;33m)\u001b[0m\u001b[1;33m\u001b[0m\u001b[0m\n\u001b[1;32m---> 37\u001b[1;33m                     \u001b[0mdata\u001b[0m \u001b[1;33m=\u001b[0m \u001b[0mgetContent\u001b[0m\u001b[1;33m(\u001b[0m\u001b[0mchrome\u001b[0m\u001b[1;33m)\u001b[0m\u001b[1;33m\u001b[0m\u001b[0m\n\u001b[0m\u001b[0;32m     38\u001b[0m                     \u001b[0mprint\u001b[0m\u001b[1;33m(\u001b[0m\u001b[1;34m\"[\"\u001b[0m \u001b[1;33m+\u001b[0m \u001b[0mstr\u001b[0m\u001b[1;33m(\u001b[0m\u001b[0mcount\u001b[0m\u001b[1;33m)\u001b[0m \u001b[1;33m+\u001b[0m \u001b[1;34m\"] : \"\u001b[0m\u001b[1;33m,\u001b[0m \u001b[0mdata\u001b[0m\u001b[1;33m)\u001b[0m\u001b[1;33m\u001b[0m\u001b[0m\n",
      "\u001b[1;32m<ipython-input-32-9e4acbac5d68>\u001b[0m in \u001b[0;36mgetContent\u001b[1;34m(chrome)\u001b[0m\n\u001b[0;32m      3\u001b[0m \u001b[1;33m\u001b[0m\u001b[0m\n\u001b[1;32m----> 4\u001b[1;33m     \u001b[0mhtml\u001b[0m \u001b[1;33m=\u001b[0m \u001b[0mchrome\u001b[0m\u001b[1;33m.\u001b[0m\u001b[0mpage_source\u001b[0m\u001b[1;33m\u001b[0m\u001b[0m\n\u001b[0m\u001b[0;32m      5\u001b[0m     \u001b[0msoup\u001b[0m \u001b[1;33m=\u001b[0m \u001b[0mBeautifulSoup\u001b[0m\u001b[1;33m(\u001b[0m\u001b[0mhtml\u001b[0m\u001b[1;33m,\u001b[0m \u001b[1;34m'lxml'\u001b[0m\u001b[1;33m)\u001b[0m\u001b[1;33m\u001b[0m\u001b[0m\n",
      "\u001b[1;32mC:\\ProgramData\\Anaconda3\\lib\\site-packages\\selenium\\webdriver\\remote\\webdriver.py\u001b[0m in \u001b[0;36mpage_source\u001b[1;34m(self)\u001b[0m\n\u001b[0;32m    678\u001b[0m         \"\"\"\n\u001b[1;32m--> 679\u001b[1;33m         \u001b[1;32mreturn\u001b[0m \u001b[0mself\u001b[0m\u001b[1;33m.\u001b[0m\u001b[0mexecute\u001b[0m\u001b[1;33m(\u001b[0m\u001b[0mCommand\u001b[0m\u001b[1;33m.\u001b[0m\u001b[0mGET_PAGE_SOURCE\u001b[0m\u001b[1;33m)\u001b[0m\u001b[1;33m[\u001b[0m\u001b[1;34m'value'\u001b[0m\u001b[1;33m]\u001b[0m\u001b[1;33m\u001b[0m\u001b[0m\n\u001b[0m\u001b[0;32m    680\u001b[0m \u001b[1;33m\u001b[0m\u001b[0m\n",
      "\u001b[1;32mC:\\ProgramData\\Anaconda3\\lib\\site-packages\\selenium\\webdriver\\remote\\webdriver.py\u001b[0m in \u001b[0;36mexecute\u001b[1;34m(self, driver_command, params)\u001b[0m\n\u001b[0;32m    320\u001b[0m         \u001b[1;32mif\u001b[0m \u001b[0mresponse\u001b[0m\u001b[1;33m:\u001b[0m\u001b[1;33m\u001b[0m\u001b[0m\n\u001b[1;32m--> 321\u001b[1;33m             \u001b[0mself\u001b[0m\u001b[1;33m.\u001b[0m\u001b[0merror_handler\u001b[0m\u001b[1;33m.\u001b[0m\u001b[0mcheck_response\u001b[0m\u001b[1;33m(\u001b[0m\u001b[0mresponse\u001b[0m\u001b[1;33m)\u001b[0m\u001b[1;33m\u001b[0m\u001b[0m\n\u001b[0m\u001b[0;32m    322\u001b[0m             response['value'] = self._unwrap_value(\n",
      "\u001b[1;32mC:\\ProgramData\\Anaconda3\\lib\\site-packages\\selenium\\webdriver\\remote\\errorhandler.py\u001b[0m in \u001b[0;36mcheck_response\u001b[1;34m(self, response)\u001b[0m\n\u001b[0;32m    241\u001b[0m             \u001b[1;32mraise\u001b[0m \u001b[0mexception_class\u001b[0m\u001b[1;33m(\u001b[0m\u001b[0mmessage\u001b[0m\u001b[1;33m,\u001b[0m \u001b[0mscreen\u001b[0m\u001b[1;33m,\u001b[0m \u001b[0mstacktrace\u001b[0m\u001b[1;33m,\u001b[0m \u001b[0malert_text\u001b[0m\u001b[1;33m)\u001b[0m\u001b[1;33m\u001b[0m\u001b[0m\n\u001b[1;32m--> 242\u001b[1;33m         \u001b[1;32mraise\u001b[0m \u001b[0mexception_class\u001b[0m\u001b[1;33m(\u001b[0m\u001b[0mmessage\u001b[0m\u001b[1;33m,\u001b[0m \u001b[0mscreen\u001b[0m\u001b[1;33m,\u001b[0m \u001b[0mstacktrace\u001b[0m\u001b[1;33m)\u001b[0m\u001b[1;33m\u001b[0m\u001b[0m\n\u001b[0m\u001b[0;32m    243\u001b[0m \u001b[1;33m\u001b[0m\u001b[0m\n",
      "\u001b[1;31mWebDriverException\u001b[0m: Message: chrome not reachable\n  (Session info: chrome=90.0.4430.93)\n",
      "\nDuring handling of the above exception, another exception occurred:\n",
      "\u001b[1;31mWebDriverException\u001b[0m                        Traceback (most recent call last)",
      "\u001b[1;32m<ipython-input-34-3a2d763909d5>\u001b[0m in \u001b[0;36m<module>\u001b[1;34m\u001b[0m\n\u001b[1;32m----> 1\u001b[1;33m \u001b[0mstartSearch\u001b[0m\u001b[1;33m(\u001b[0m\u001b[0memail\u001b[0m \u001b[1;33m=\u001b[0m \u001b[1;34m\"gbible@naver.com\"\u001b[0m\u001b[1;33m)\u001b[0m\u001b[1;33m\u001b[0m\u001b[0m\n\u001b[0m",
      "\u001b[1;32m<ipython-input-33-16bde44f9ff2>\u001b[0m in \u001b[0;36mstartSearch\u001b[1;34m(loginType, email, password)\u001b[0m\n\u001b[0;32m     45\u001b[0m     \u001b[1;32mfinally\u001b[0m\u001b[1;33m:\u001b[0m\u001b[1;33m\u001b[0m\u001b[0m\n\u001b[0;32m     46\u001b[0m         \u001b[1;32mif\u001b[0m \u001b[0mchrome\u001b[0m\u001b[1;33m:\u001b[0m\u001b[1;33m\u001b[0m\u001b[0m\n\u001b[1;32m---> 47\u001b[1;33m             \u001b[0mchrome\u001b[0m\u001b[1;33m.\u001b[0m\u001b[0mclose\u001b[0m\u001b[1;33m(\u001b[0m\u001b[1;33m)\u001b[0m\u001b[1;33m\u001b[0m\u001b[0m\n\u001b[0m",
      "\u001b[1;32mC:\\ProgramData\\Anaconda3\\lib\\site-packages\\selenium\\webdriver\\remote\\webdriver.py\u001b[0m in \u001b[0;36mclose\u001b[1;34m(self)\u001b[0m\n\u001b[0;32m    686\u001b[0m             \u001b[0mdriver\u001b[0m\u001b[1;33m.\u001b[0m\u001b[0mclose\u001b[0m\u001b[1;33m(\u001b[0m\u001b[1;33m)\u001b[0m\u001b[1;33m\u001b[0m\u001b[0m\n\u001b[0;32m    687\u001b[0m         \"\"\"\n\u001b[1;32m--> 688\u001b[1;33m         \u001b[0mself\u001b[0m\u001b[1;33m.\u001b[0m\u001b[0mexecute\u001b[0m\u001b[1;33m(\u001b[0m\u001b[0mCommand\u001b[0m\u001b[1;33m.\u001b[0m\u001b[0mCLOSE\u001b[0m\u001b[1;33m)\u001b[0m\u001b[1;33m\u001b[0m\u001b[0m\n\u001b[0m\u001b[0;32m    689\u001b[0m \u001b[1;33m\u001b[0m\u001b[0m\n\u001b[0;32m    690\u001b[0m     \u001b[1;32mdef\u001b[0m \u001b[0mquit\u001b[0m\u001b[1;33m(\u001b[0m\u001b[0mself\u001b[0m\u001b[1;33m)\u001b[0m\u001b[1;33m:\u001b[0m\u001b[1;33m\u001b[0m\u001b[0m\n",
      "\u001b[1;32mC:\\ProgramData\\Anaconda3\\lib\\site-packages\\selenium\\webdriver\\remote\\webdriver.py\u001b[0m in \u001b[0;36mexecute\u001b[1;34m(self, driver_command, params)\u001b[0m\n\u001b[0;32m    319\u001b[0m         \u001b[0mresponse\u001b[0m \u001b[1;33m=\u001b[0m \u001b[0mself\u001b[0m\u001b[1;33m.\u001b[0m\u001b[0mcommand_executor\u001b[0m\u001b[1;33m.\u001b[0m\u001b[0mexecute\u001b[0m\u001b[1;33m(\u001b[0m\u001b[0mdriver_command\u001b[0m\u001b[1;33m,\u001b[0m \u001b[0mparams\u001b[0m\u001b[1;33m)\u001b[0m\u001b[1;33m\u001b[0m\u001b[0m\n\u001b[0;32m    320\u001b[0m         \u001b[1;32mif\u001b[0m \u001b[0mresponse\u001b[0m\u001b[1;33m:\u001b[0m\u001b[1;33m\u001b[0m\u001b[0m\n\u001b[1;32m--> 321\u001b[1;33m             \u001b[0mself\u001b[0m\u001b[1;33m.\u001b[0m\u001b[0merror_handler\u001b[0m\u001b[1;33m.\u001b[0m\u001b[0mcheck_response\u001b[0m\u001b[1;33m(\u001b[0m\u001b[0mresponse\u001b[0m\u001b[1;33m)\u001b[0m\u001b[1;33m\u001b[0m\u001b[0m\n\u001b[0m\u001b[0;32m    322\u001b[0m             response['value'] = self._unwrap_value(\n\u001b[0;32m    323\u001b[0m                 response.get('value', None))\n",
      "\u001b[1;32mC:\\ProgramData\\Anaconda3\\lib\\site-packages\\selenium\\webdriver\\remote\\errorhandler.py\u001b[0m in \u001b[0;36mcheck_response\u001b[1;34m(self, response)\u001b[0m\n\u001b[0;32m    240\u001b[0m                 \u001b[0malert_text\u001b[0m \u001b[1;33m=\u001b[0m \u001b[0mvalue\u001b[0m\u001b[1;33m[\u001b[0m\u001b[1;34m'alert'\u001b[0m\u001b[1;33m]\u001b[0m\u001b[1;33m.\u001b[0m\u001b[0mget\u001b[0m\u001b[1;33m(\u001b[0m\u001b[1;34m'text'\u001b[0m\u001b[1;33m)\u001b[0m\u001b[1;33m\u001b[0m\u001b[0m\n\u001b[0;32m    241\u001b[0m             \u001b[1;32mraise\u001b[0m \u001b[0mexception_class\u001b[0m\u001b[1;33m(\u001b[0m\u001b[0mmessage\u001b[0m\u001b[1;33m,\u001b[0m \u001b[0mscreen\u001b[0m\u001b[1;33m,\u001b[0m \u001b[0mstacktrace\u001b[0m\u001b[1;33m,\u001b[0m \u001b[0malert_text\u001b[0m\u001b[1;33m)\u001b[0m\u001b[1;33m\u001b[0m\u001b[0m\n\u001b[1;32m--> 242\u001b[1;33m         \u001b[1;32mraise\u001b[0m \u001b[0mexception_class\u001b[0m\u001b[1;33m(\u001b[0m\u001b[0mmessage\u001b[0m\u001b[1;33m,\u001b[0m \u001b[0mscreen\u001b[0m\u001b[1;33m,\u001b[0m \u001b[0mstacktrace\u001b[0m\u001b[1;33m)\u001b[0m\u001b[1;33m\u001b[0m\u001b[0m\n\u001b[0m\u001b[0;32m    243\u001b[0m \u001b[1;33m\u001b[0m\u001b[0m\n\u001b[0;32m    244\u001b[0m     \u001b[1;32mdef\u001b[0m \u001b[0m_value_or_default\u001b[0m\u001b[1;33m(\u001b[0m\u001b[0mself\u001b[0m\u001b[1;33m,\u001b[0m \u001b[0mobj\u001b[0m\u001b[1;33m,\u001b[0m \u001b[0mkey\u001b[0m\u001b[1;33m,\u001b[0m \u001b[0mdefault\u001b[0m\u001b[1;33m)\u001b[0m\u001b[1;33m:\u001b[0m\u001b[1;33m\u001b[0m\u001b[0m\n",
      "\u001b[1;31mWebDriverException\u001b[0m: Message: chrome not reachable\n  (Session info: chrome=90.0.4430.93)\n"
     ]
    }
   ],
   "source": [
    "startSearch(email = \"gbible@naver.com\")"
   ]
  }
 ],
 "metadata": {
  "kernelspec": {
   "display_name": "Python 3",
   "language": "python",
   "name": "python3"
  },
  "language_info": {
   "codemirror_mode": {
    "name": "ipython",
    "version": 3
   },
   "file_extension": ".py",
   "mimetype": "text/x-python",
   "name": "python",
   "nbconvert_exporter": "python",
   "pygments_lexer": "ipython3",
   "version": "3.6.5"
  }
 },
 "nbformat": 4,
 "nbformat_minor": 4
}
